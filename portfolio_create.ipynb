{
 "cells": [
  {
   "cell_type": "code",
   "execution_count": 10,
   "metadata": {
    "collapsed": true
   },
   "outputs": [],
   "source": [
    "import sqlite3\n",
    "from allocation.utilities import utility \n",
    "import pandas as pd\n",
    "from datetime import datetime as dt\n",
    "import collections\n",
    "import numpy\n",
    "import json\n",
    "from cvxopt import matrix, solvers\n",
    "\n",
    "\n",
    "start_date = \"2007-01-02\"\n",
    "end_date = \"2019-01-29\""
   ]
  },
  {
   "cell_type": "code",
   "execution_count": 11,
   "metadata": {},
   "outputs": [],
   "source": [
    "conn = sqlite3.connect('db.sqlite3')\n",
    "c = conn.cursor()"
   ]
  },
  {
   "cell_type": "code",
   "execution_count": 12,
   "metadata": {
    "collapsed": true
   },
   "outputs": [
    {
     "name": "stdout",
     "output_type": "stream",
     "text": [
      "ISCI137 deleted\nISCI325 deleted\nISCI326 deleted\nISCI328 deleted\nISCI40 deleted\n"
     ]
    },
    {
     "name": "stdout",
     "output_type": "stream",
     "text": [
      "ISCI693 deleted\nISCI830 deleted\n"
     ]
    }
   ],
   "source": [
    "start_date_dt = dt.strptime(start_date, '%Y-%m-%d')\n",
    "end_date_dt = dt.strptime(end_date, '%Y-%m-%d')\n",
    "\n",
    "results = c.execute(\"SELECT codec FROM allocation_asset\")\n",
    "symbols = sorted([row[0] for row in results])\n",
    "asset_series = dict()\n",
    "\n",
    "q = \"\"\"\n",
    "     select date, price\n",
    "     from allocation_series\n",
    "     where asset_id=:symbol and \n",
    "     date between date(:start_date) and date(:end_date);\n",
    "     \"\"\"\n",
    "\n",
    "for symbol in symbols:\n",
    "    params = {'symbol': symbol, 'start_date': start_date, 'end_date': end_date}\n",
    "    asset_series[symbol] = pd.read_sql(q, conn, params=params)\n",
    "    if asset_series[symbol].iloc[0][\"date\"] != start_date or asset_series[symbol].iloc[len(asset_series[symbol])-1][\"date\"] != \"2019-01-29\":\n",
    "        del asset_series[symbol]\n",
    "        print symbol, \"deleted\"\n",
    "\n",
    "asset_returns_an = collections.OrderedDict(sorted(utility.return_assets(asset_series, \n",
    "                                                                        start_date_dt, end_date_dt)[0].items()))\n",
    "risk, cov = utility.risk_corr(asset_series, start_date_dt, end_date_dt)\n",
    "print len(cov), len(a)\n",
    "#print collections.OrderedDict(sorted(risk.items())), cov\n",
    "\n"
   ]
  },
  {
   "cell_type": "code",
   "execution_count": 34,
   "metadata": {},
   "outputs": [
    {
     "name": "stdout",
     "output_type": "stream",
     "text": [
      "71 (u'IBSC520', u'ISCI10', u'ISCI11', u'ISCI110', u'ISCI111', u'ISCI112', u'ISCI113', u'ISCI114', u'ISCI115', u'ISCI129', u'ISCI132', u'ISCI134', u'ISCI14', u'ISCI140', u'ISCI143', u'ISCI144', u'ISCI145', u'ISCI150', u'ISCI152', u'ISCI156', u'ISCI158', u'ISCI160', u'ISCI163', u'ISCI164', u'ISCI174', u'ISCI175', u'ISCI176', u'ISCI193', u'ISCI194', u'ISCI196', u'ISCI197', u'ISCI199', u'ISCI2', u'ISCI204', u'ISCI205', u'ISCI25', u'ISCI251', u'ISCI26', u'ISCI27', u'ISCI28', u'ISCI29', u'ISCI30', u'ISCI31', u'ISCI32', u'ISCI329', u'ISCI33', u'ISCI34', u'ISCI4', u'ISCI41', u'ISCI45', u'ISCI46', u'ISCI48', u'ISCI49', u'ISCI5', u'ISCI6', u'ISCI62', u'ISCI679', u'ISCI7', u'ISCI71', u'ISCI74', u'ISCI76', u'ISCI8', u'ISCI80', u'ISCI81', u'ISCI85', u'ISCI86', u'ISCI87', u'ISCI88', u'ISCI9', u'ISCI92', u'ISCI94')\n5041\n"
     ]
    }
   ],
   "source": [
    "\n",
    "cov_na = cov.to_numpy()\n",
    "sigma = matrix(cov_na)\n",
    "symbols, return_an = zip(*asset_returns_an.items())\n",
    "#avg_r = map(lambda s: return_an, symbols)\n",
    "avg_r = numpy.array(return_an)\n",
    "r_min = 0.07\n",
    "print len(avg_r), symbols\n",
    "print len(sigma)"
   ]
  },
  {
   "cell_type": "code",
   "execution_count": 87,
   "metadata": {},
   "outputs": [
    {
     "name": "stdout",
     "output_type": "stream",
     "text": [
      "[ 2.49e-03  2.02e-03  1.59e-03  1.09e-03  1.27e-03  1.14e-03  1.30e-03 ... ]\n[ 2.02e-03  2.18e-03  1.67e-03  1.29e-03  1.43e-03  1.36e-03  1.51e-03 ... ]\n[ 1.59e-03  1.67e-03  1.48e-03  1.14e-03  1.25e-03  1.19e-03  1.36e-03 ... ]\n[ 1.09e-03  1.29e-03  1.14e-03  1.41e-03  1.48e-03  1.49e-03  1.65e-03 ... ]\n[ 1.27e-03  1.43e-03  1.25e-03  1.48e-03  1.62e-03  1.53e-03  1.72e-03 ... ]\n[ 1.14e-03  1.36e-03  1.19e-03  1.49e-03  1.53e-03  1.64e-03  1.77e-03 ... ]\n[ 1.30e-03  1.51e-03  1.36e-03  1.65e-03  1.72e-03  1.77e-03  2.16e-03 ... ]\n[ 1.37e-03  1.54e-03  1.39e-03  1.65e-03  1.77e-03  1.73e-03  2.08e-03 ... ]\n[ 1.25e-03  1.42e-03  1.25e-03  1.61e-03  1.66e-03  1.76e-03  2.08e-03 ... ]\n[ 2.43e-06  2.65e-06 -2.96e-07  1.19e-06  1.35e-06  3.67e-07  1.64e-06 ... ]\n[ 4.42e-04  7.67e-04  5.52e-04  4.16e-04  4.05e-04  4.53e-04  5.14e-04 ... ]\n[ 2.98e-05  4.68e-04  3.88e-04  3.87e-04  3.76e-04  4.29e-04  4.59e-04 ... ]\n[ 1.24e-03  1.38e-03  1.29e-03  1.08e-03  1.16e-03  1.14e-03  1.24e-03 ... ]\n[ 3.21e-04  3.07e-04  2.50e-04  1.77e-04  1.86e-04  1.93e-04  2.06e-04 ... ]\n[ 2.10e-06  1.87e-05 -3.58e-07 -1.69e-05 -2.82e-05 -1.69e-05 -4.00e-05 ... ]\n[ 8.95e-06  5.33e-06 -3.08e-06 -4.84e-06 -9.05e-06 -2.02e-06 -1.38e-05 ... ]\n[-1.61e-05  1.92e-05 -2.50e-06 -2.28e-05 -3.75e-05 -2.29e-05 -5.08e-05 ... ]\n[ 1.00e-03  8.95e-04  7.47e-04  5.81e-04  6.43e-04  6.24e-04  7.09e-04 ... ]\n[ 5.07e-04  5.01e-04  3.76e-04  2.52e-04  2.62e-04  2.81e-04  2.90e-04 ... ]\n[-1.08e-03 -4.91e-04 -4.13e-04 -3.28e-04 -3.96e-04 -3.59e-04 -4.67e-04 ... ]\n[-4.78e-04  1.87e-05  3.24e-05  1.30e-04  9.40e-05  1.51e-04  1.24e-04 ... ]\n[ 2.83e-04  6.51e-04  5.72e-04  5.86e-04  5.96e-04  6.43e-04  7.07e-04 ... ]\n[-4.03e-04 -4.49e-05 -3.31e-05  1.11e-05 -2.68e-05  1.47e-05 -2.06e-05 ... ]\n[ 3.29e-04  7.11e-04  6.26e-04  6.45e-04  6.61e-04  7.09e-04  7.75e-04 ... ]\n[-8.11e-04 -1.88e-04 -1.06e-04  4.27e-05 -2.04e-05  4.44e-05  1.74e-05 ... ]\n[-7.45e-04 -1.21e-04 -2.19e-05  1.39e-04  8.34e-05  1.39e-04  1.49e-04 ... ]\n[-8.57e-04 -2.34e-04 -1.61e-04  4.03e-06 -6.28e-05  1.68e-06 -3.87e-05 ... ]\n[ 8.73e-04  7.03e-04  5.50e-04  3.38e-04  3.84e-04  3.66e-04  4.27e-04 ... ]\n[ 1.80e-04  1.43e-04  1.11e-04  4.36e-05  5.12e-05  5.00e-05  5.80e-05 ... ]\n[ 8.86e-04  7.68e-04  6.39e-04  5.37e-04  6.02e-04  5.85e-04  6.81e-04 ... ]\n[ 8.79e-04  7.97e-04  6.50e-04  5.11e-04  5.66e-04  5.59e-04  6.38e-04 ... ]\n[ 2.86e-04  5.36e-04  4.39e-04  4.30e-04  4.38e-04  4.61e-04  5.02e-04 ... ]\n[ 2.10e-03  2.14e-03  1.59e-03  1.21e-03  1.33e-03  1.27e-03  1.41e-03 ... ]\n[-1.14e-05 -8.04e-07 -1.14e-05 -1.98e-05 -2.99e-05 -1.92e-05 -4.31e-05 ... ]\n[-5.60e-05  4.52e-05  1.92e-06 -3.11e-05 -5.15e-05 -3.93e-05 -8.00e-05 ... ]\n[ 1.72e-03  1.61e-03  1.36e-03  1.26e-03  1.40e-03  1.34e-03  1.49e-03 ... ]\n[ 1.71e-03  1.40e-03  1.48e-03  1.22e-03  1.31e-03  1.30e-03  1.45e-03 ... ]\n[ 2.22e-03  2.02e-03  1.56e-03  1.25e-03  1.36e-03  1.35e-03  1.42e-03 ... ]\n[ 2.45e-03  2.32e-03  1.87e-03  1.44e-03  1.61e-03  1.52e-03  1.72e-03 ... ]\n[ 1.59e-03  1.51e-03  1.27e-03  1.25e-03  1.37e-03  1.34e-03  1.45e-03 ... ]\n[ 1.76e-03  1.65e-03  1.39e-03  1.27e-03  1.43e-03  1.34e-03  1.51e-03 ... ]\n[ 1.45e-03  1.41e-03  1.19e-03  1.18e-03  1.29e-03  1.26e-03  1.37e-03 ... ]\n[ 1.52e-03  1.50e-03  1.26e-03  1.23e-03  1.36e-03  1.29e-03  1.43e-03 ... ]\n[ 1.50e-03  1.46e-03  1.23e-03  1.22e-03  1.33e-03  1.31e-03  1.41e-03 ... ]\n[ 1.27e-03  1.46e-03  1.17e-03  8.75e-04  9.58e-04  9.61e-04  1.05e-03 ... ]\n[ 1.70e-03  1.62e-03  1.39e-03  1.31e-03  1.45e-03  1.37e-03  1.57e-03 ... ]\n[ 1.77e-03  1.69e-03  1.43e-03  1.35e-03  1.51e-03  1.40e-03  1.61e-03 ... ]\n[ 1.66e-03  1.49e-03  1.25e-03  1.25e-03  1.37e-03  1.34e-03  1.46e-03 ... ]\n[ 8.39e-04  1.03e-03  1.18e-03  1.02e-03  1.08e-03  1.08e-03  1.15e-03 ... ]\n[ 1.47e-03  1.55e-03  1.36e-03  1.33e-03  1.46e-03  1.38e-03  1.58e-03 ... ]\n[ 1.21e-03  1.38e-03  1.16e-03  1.21e-03  1.28e-03  1.30e-03  1.39e-03 ... ]\n[ 2.15e-03  2.20e-03  1.73e-03  1.31e-03  1.48e-03  1.36e-03  1.54e-03 ... ]\n[ 2.20e-03  2.21e-03  1.70e-03  1.29e-03  1.43e-03  1.37e-03  1.52e-03 ... ]\n[ 1.68e-03  1.51e-03  1.26e-03  1.26e-03  1.37e-03  1.35e-03  1.45e-03 ... ]\n[ 1.79e-03  1.59e-03  1.36e-03  1.26e-03  1.41e-03  1.33e-03  1.51e-03 ... ]\n[ 1.57e-03  1.32e-03  1.13e-03  1.12e-03  1.21e-03  1.21e-03  1.28e-03 ... ]\n[ 1.06e-03  8.80e-04  7.28e-04  6.29e-04  7.13e-04  6.59e-04  7.54e-04 ... ]\n[ 2.27e-03  2.36e-03  1.88e-03  1.38e-03  1.55e-03  1.46e-03  1.64e-03 ... ]\n[ 1.26e-03  1.40e-03  1.20e-03  1.19e-03  1.28e-03  1.28e-03  1.39e-03 ... ]\n[ 1.11e-03  1.22e-03  1.04e-03  1.02e-03  1.10e-03  1.08e-03  1.16e-03 ... ]\n[ 1.46e-03  1.58e-03  1.34e-03  1.43e-03  1.56e-03  1.52e-03  1.74e-03 ... ]\n[ 2.18e-03  2.25e-03  1.75e-03  1.30e-03  1.47e-03  1.35e-03  1.51e-03 ... ]\n[ 1.86e-03  1.88e-03  1.59e-03  1.48e-03  1.56e-03  1.51e-03  1.88e-03 ... ]\n[ 1.91e-03  1.90e-03  1.58e-03  1.48e-03  1.66e-03  1.52e-03  1.79e-03 ... ]\n[ 1.82e-03  1.80e-03  1.59e-03  1.64e-03  1.70e-03  1.82e-03  1.96e-03 ... ]\n[ 1.62e-03  1.75e-03  1.53e-03  1.67e-03  1.77e-03  1.90e-03  2.21e-03 ... ]\n[ 1.73e-03  1.84e-03  1.56e-03  1.17e-03  1.25e-03  1.25e-03  1.31e-03 ... ]\n[ 1.47e-03  1.35e-03  1.15e-03  1.09e-03  1.16e-03  1.21e-03  1.35e-03 ... ]\n[ 2.09e-03  2.21e-03  1.72e-03  1.31e-03  1.48e-03  1.36e-03  1.52e-03 ... ]\n[ 1.45e-03  1.63e-03  1.42e-03  1.59e-03  1.77e-03  1.62e-03  1.86e-03 ... ]\n[ 1.28e-03  1.37e-03  1.19e-03  1.29e-03  1.44e-03  1.33e-03  1.46e-03 ... ]\n\n"
     ]
    }
   ],
   "source": [
    "n = len(avg_r)\n",
    "returns = numpy.asmatrix(avg_r)\n",
    "\n",
    "# Convert to cvxopt matrices\n",
    "R = avg_r\n",
    "\n",
    "P = sigma\n",
    "q = matrix(numpy.zeros(n))\n",
    "G = matrix(-numpy.eye(n))\n",
    "h = matrix(numpy.zeros(n))\n",
    "A = matrix(numpy.array([R, numpy.ones(n)]))\n",
    "b = matrix(numpy.array([0.1, 1]))\n",
    "print P"
   ]
  },
  {
   "cell_type": "code",
   "execution_count": 102,
   "metadata": {
    "collapsed": false
   },
   "outputs": [
    {
     "name": "stdout",
     "output_type": "stream",
     "text": [
      "[-1.00e+00  0.00e+00]\n[ 0.00e+00 -1.00e+00]\n[-1.00e+00 -3.00e+00]\n[ 2.00e+00  5.00e+00]\n[ 3.00e+00  4.00e+00]\n\n"
     ]
    },
    {
     "ename": "ValueError",
     "evalue": "Rank(A) < p or Rank([P; A; G]) < n",
     "traceback": [
      "\u001b[1;31m---------------------------------------------------------------------------\u001b[0m",
      "\u001b[1;31mValueError\u001b[0m                                Traceback (most recent call last)",
      "\u001b[1;32m<ipython-input-102-587332cfd1b3>\u001b[0m in \u001b[0;36m<module>\u001b[1;34m()\u001b[0m\n\u001b[0;32m     10\u001b[0m \u001b[0mh\u001b[0m \u001b[1;33m=\u001b[0m \u001b[0mmatrix\u001b[0m\u001b[1;33m(\u001b[0m\u001b[0mnumpy\u001b[0m\u001b[1;33m.\u001b[0m\u001b[0marray\u001b[0m\u001b[1;33m(\u001b[0m\u001b[1;33m[\u001b[0m\u001b[1;36m0\u001b[0m\u001b[1;33m,\u001b[0m\u001b[1;36m0\u001b[0m\u001b[1;33m,\u001b[0m\u001b[1;33m-\u001b[0m\u001b[1;36m15\u001b[0m\u001b[1;33m,\u001b[0m\u001b[1;36m100\u001b[0m\u001b[1;33m,\u001b[0m\u001b[1;36m80\u001b[0m\u001b[1;33m]\u001b[0m\u001b[1;33m)\u001b[0m\u001b[1;33m,\u001b[0m \u001b[0mtc\u001b[0m\u001b[1;33m=\u001b[0m\u001b[1;34m'd'\u001b[0m\u001b[1;33m)\u001b[0m\u001b[1;33m\u001b[0m\u001b[0m\n\u001b[0;32m     11\u001b[0m \u001b[1;32mprint\u001b[0m \u001b[0mG\u001b[0m\u001b[1;33m\u001b[0m\u001b[0m\n\u001b[1;32m---> 12\u001b[1;33m \u001b[0msol\u001b[0m \u001b[1;33m=\u001b[0m \u001b[0msolvers\u001b[0m\u001b[1;33m.\u001b[0m\u001b[0mqp\u001b[0m\u001b[1;33m(\u001b[0m\u001b[0mP\u001b[0m\u001b[1;33m,\u001b[0m \u001b[0mq\u001b[0m\u001b[1;33m,\u001b[0m \u001b[0mG\u001b[0m\u001b[1;33m,\u001b[0m \u001b[0mh\u001b[0m\u001b[1;33m)\u001b[0m\u001b[1;33m\u001b[0m\u001b[0m\n\u001b[0m",
      "\u001b[1;32mc:\\users\\crtom\\pycharmprojects\\fairobjectives\\venv\\lib\\site-packages\\cvxopt\\coneprog.pyc\u001b[0m in \u001b[0;36mqp\u001b[1;34m(P, q, G, h, A, b, solver, kktsolver, initvals, **kwargs)\u001b[0m\n\u001b[0;32m   4468\u001b[0m             'residual as dual infeasibility certificate': dinfres} \n\u001b[0;32m   4469\u001b[0m \u001b[1;33m\u001b[0m\u001b[0m\n\u001b[1;32m-> 4470\u001b[1;33m     \u001b[1;32mreturn\u001b[0m \u001b[0mconeqp\u001b[0m\u001b[1;33m(\u001b[0m\u001b[0mP\u001b[0m\u001b[1;33m,\u001b[0m \u001b[0mq\u001b[0m\u001b[1;33m,\u001b[0m \u001b[0mG\u001b[0m\u001b[1;33m,\u001b[0m \u001b[0mh\u001b[0m\u001b[1;33m,\u001b[0m \u001b[0mNone\u001b[0m\u001b[1;33m,\u001b[0m \u001b[0mA\u001b[0m\u001b[1;33m,\u001b[0m  \u001b[0mb\u001b[0m\u001b[1;33m,\u001b[0m \u001b[0minitvals\u001b[0m\u001b[1;33m,\u001b[0m \u001b[0mkktsolver\u001b[0m \u001b[1;33m=\u001b[0m \u001b[0mkktsolver\u001b[0m\u001b[1;33m,\u001b[0m \u001b[0moptions\u001b[0m \u001b[1;33m=\u001b[0m \u001b[0moptions\u001b[0m\u001b[1;33m)\u001b[0m\u001b[1;33m\u001b[0m\u001b[0m\n\u001b[0m",
      "\u001b[1;32mc:\\users\\crtom\\pycharmprojects\\fairobjectives\\venv\\lib\\site-packages\\cvxopt\\coneprog.pyc\u001b[0m in \u001b[0;36mconeqp\u001b[1;34m(P, q, G, h, dims, A, b, initvals, kktsolver, xnewcopy, xdot, xaxpy, xscal, ynewcopy, ydot, yaxpy, yscal, **kwargs)\u001b[0m\n\u001b[0;32m   2065\u001b[0m         \u001b[1;32mtry\u001b[0m\u001b[1;33m:\u001b[0m \u001b[0mf\u001b[0m \u001b[1;33m=\u001b[0m \u001b[0mkktsolver\u001b[0m\u001b[1;33m(\u001b[0m\u001b[0mW\u001b[0m\u001b[1;33m)\u001b[0m\u001b[1;33m\u001b[0m\u001b[0m\n\u001b[0;32m   2066\u001b[0m         \u001b[1;32mexcept\u001b[0m \u001b[0mArithmeticError\u001b[0m\u001b[1;33m:\u001b[0m\u001b[1;33m\u001b[0m\u001b[0m\n\u001b[1;32m-> 2067\u001b[1;33m             \u001b[1;32mraise\u001b[0m \u001b[0mValueError\u001b[0m\u001b[1;33m(\u001b[0m\u001b[1;34m\"Rank(A) < p or Rank([P; A; G]) < n\"\u001b[0m\u001b[1;33m)\u001b[0m\u001b[1;33m\u001b[0m\u001b[0m\n\u001b[0m\u001b[0;32m   2068\u001b[0m \u001b[1;33m\u001b[0m\u001b[0m\n\u001b[0;32m   2069\u001b[0m \u001b[1;33m\u001b[0m\u001b[0m\n",
      "\u001b[1;31mValueError\u001b[0m: Rank(A) < p or Rank([P; A; G]) < n"
     ],
     "output_type": "error"
    }
   ],
   "source": [
    "#P = matrix(numpy.array([[2.49e-03, 2.02e-03], [2.02e-03, 2.18e-03]]))\n",
    "#q = matrix(numpy.zeros(2))\n",
    "#G = matrix([[-1, 0], [0, -1]])\n",
    "#h = matrix(numpy.ones(2))\n",
    "#A = matrix([[1, 1], [0.05, 0.06]])\n",
    "#b = matrix([1, 0.01])\n",
    "P = matrix(numpy.diag([1,0]), tc='d')\n",
    "q = matrix(numpy.array([3,4]), tc='d')\n",
    "G = matrix(numpy.array([[-1,0],[0,-1],[-1,-3],[2,5],[3,4]]), tc='d')\n",
    "h = matrix(numpy.array([0,0,-15,100,80]), tc='d')\n",
    "print G\n",
    "sol = solvers.qp(P, q, G, h)"
   ]
  },
  {
   "cell_type": "code",
   "execution_count": 65,
   "metadata": {},
   "outputs": [],
   "source": [
    "\n",
    "\n"
   ]
  },
  {
   "cell_type": "code",
   "execution_count": null,
   "metadata": {},
   "outputs": [],
   "source": []
  }
 ],
 "metadata": {
  "kernelspec": {
   "display_name": "Python 2",
   "language": "python",
   "name": "python2"
  },
  "language_info": {
   "codemirror_mode": {
    "name": "ipython",
    "version": 2
   },
   "file_extension": ".py",
   "mimetype": "text/x-python",
   "name": "python",
   "nbconvert_exporter": "python",
   "pygments_lexer": "ipython2",
   "version": "2.7.6"
  }
 },
 "nbformat": 4,
 "nbformat_minor": 0
}
